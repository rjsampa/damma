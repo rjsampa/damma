{
 "cells": [
  {
   "cell_type": "code",
   "execution_count": 25,
   "metadata": {},
   "outputs": [],
   "source": [
    "#Abrindo damma\n",
    "from damma import Damma\n",
    "import time "
   ]
  },
  {
   "cell_type": "markdown",
   "metadata": {},
   "source": [
    "# Preparação inicial"
   ]
  },
  {
   "cell_type": "code",
   "execution_count": 26,
   "metadata": {},
   "outputs": [],
   "source": [
    "# arquivos netCDF wrfout que se deseja realizar o downscaling \n",
    "\n",
    "# Arquivo base com 5 km de resolucao\n",
    "di = 'wrfout_d02_2018-01-16_00_00_00'\n",
    "\n",
    "# Arquivo com 1 km de resolucao contendo as variaveis fisiograficas \n",
    "df = 'wrfout_d03_2018-01-16_00_00_00'"
   ]
  },
  {
   "cell_type": "code",
   "execution_count": 27,
   "metadata": {},
   "outputs": [],
   "source": [
    "# Definindo a variavel de interesse \n",
    "\n",
    "# O arquivo usado tem 60 horas de modelagem, vamos realizar o downscaling entre a hora 37 e 41 da variavel temperatura do ar a 2m (T2)\n",
    "VAR = 'T2'\n",
    "init = 37\n",
    "end = 41"
   ]
  },
  {
   "cell_type": "code",
   "execution_count": 28,
   "metadata": {},
   "outputs": [],
   "source": [
    "# Estimador sera maquina vetor suporte implementado no sklearn\n",
    "\n",
    "from sklearn.svm import SVR\n",
    "\n",
    "Estimador = SVR(kernel='poly',\n",
    "               coef0=0.00001,\n",
    "               C=3,\n",
    "               epsilon=0.5,\n",
    "               gamma='auto')"
   ]
  },
  {
   "cell_type": "markdown",
   "metadata": {},
   "source": [
    "# Aplicando o downscaling"
   ]
  },
  {
   "cell_type": "code",
   "execution_count": 29,
   "metadata": {},
   "outputs": [],
   "source": [
    "# Criando a classe \n",
    "downscaling = Damma()"
   ]
  },
  {
   "cell_type": "code",
   "execution_count": 31,
   "metadata": {},
   "outputs": [
    {
     "name": "stdout",
     "output_type": "stream",
     "text": [
      "Iniciando... \n",
      "Step 1 completo no tempo de 3.683 segundos\n",
      "Step 2 completo no tempo de 3.272 segundos\n",
      "Step 3 completo no tempo de 3.244 segundos\n",
      "Step 4 completo no tempo de 3.284 segundos\n",
      "----------------------------------------------------------------------------------\n",
      "\n",
      "**********************************************************************************\n",
      "*********************************** Finalizado ***********************************\n",
      "**********************************************************************************\n",
      "\n",
      "----------------------------------------------------------------------------------\n",
      "Tempo Médio: 3.3707\n",
      "Tempo total: 13.4836\n"
     ]
    }
   ],
   "source": [
    "# Aplicando o downscaling\n",
    "downscaling.fit('T2',di,df,init,end,Estimador)\n"
   ]
  },
  {
   "cell_type": "code",
   "execution_count": 32,
   "metadata": {},
   "outputs": [],
   "source": [
    "# Campos de temperatura estimados com SVR\n",
    "y_pred  = downscaling.Ypred\n",
    "\n",
    "# Campos de temperatura de wrf 5km\n",
    "y_wrf = downscaling.varD1"
   ]
  },
  {
   "cell_type": "code",
   "execution_count": 33,
   "metadata": {},
   "outputs": [
    {
     "data": {
      "text/plain": [
       "(4, 85, 195)"
      ]
     },
     "execution_count": 33,
     "metadata": {},
     "output_type": "execute_result"
    }
   ],
   "source": [
    "y_pred.shape"
   ]
  },
  {
   "cell_type": "code",
   "execution_count": 35,
   "metadata": {},
   "outputs": [
    {
     "data": {
      "text/plain": [
       "(4, 55, 100)"
      ]
     },
     "execution_count": 35,
     "metadata": {},
     "output_type": "execute_result"
    }
   ],
   "source": [
    "y_wrf.shape"
   ]
  },
  {
   "cell_type": "markdown",
   "metadata": {},
   "source": [
    "# Visualizando a saída"
   ]
  },
  {
   "cell_type": "code",
   "execution_count": 18,
   "metadata": {},
   "outputs": [],
   "source": [
    "import matplotlib.pyplot as plt\n",
    "from matplotlib import colors\n",
    "%matplotlib inline\n"
   ]
  },
  {
   "cell_type": "code",
   "execution_count": 37,
   "metadata": {},
   "outputs": [
    {
     "data": {
      "text/plain": [
       "Text(0.5, 1.0, 'Downscaling-SVR')"
      ]
     },
     "execution_count": 37,
     "metadata": {},
     "output_type": "execute_result"
    },
    {
     "data": {
      "image/png": "[encoded data removed]",
      "text/plain": [
       "<Figure size 1008x432 with 2 Axes>"
      ]
     },
     "metadata": {
      "needs_background": "light"
     },
     "output_type": "display_data"
    }
   ],
   "source": [
    "bounds=[292,293,294, 295, 296, 297, 298, 300, 302, 304, 306, 308, 310,312]\n",
    "norm = colors.BoundaryNorm(bounds, ncolors=256)\n",
    "\n",
    "plt.figure(figsize=(14,6))\n",
    "plt.subplot(1,2,1)\n",
    "plt.imshow(y_wrf[3],cmap='jet', norm=norm)\n",
    "plt.title('WRF')\n",
    "\n",
    "plt.subplot(1,2,2)\n",
    "plt.imshow(y_pred[3],cmap='jet', norm=norm)\n",
    "plt.title('Downscaling-SVR')\n",
    "\n"
   ]
  },
  {
   "cell_type": "code",
   "execution_count": null,
   "metadata": {},
   "outputs": [],
   "source": []
  }
 ],
 "metadata": {
  "kernelspec": {
   "display_name": "Python 3",
   "language": "python",
   "name": "python3"
  },
  "language_info": {
   "codemirror_mode": {
    "name": "ipython",
    "version": 3
   },
   "file_extension": ".py",
   "mimetype": "text/x-python",
   "name": "python",
   "nbconvert_exporter": "python",
   "pygments_lexer": "ipython3",
   "version": "3.6.8"
  }
 },
 "nbformat": 4,
 "nbformat_minor": 4
}
